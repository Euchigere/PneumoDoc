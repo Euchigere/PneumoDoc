{
  "nbformat": 4,
  "nbformat_minor": 0,
  "metadata": {
    "colab": {
      "name": "pneumonia-image-classification.ipynb",
      "provenance": [],
      "collapsed_sections": [],
      "include_colab_link": true
    },
    "kernelspec": {
      "name": "python3",
      "display_name": "Python 3"
    }
  },
  "cells": [
    {
      "cell_type": "markdown",
      "metadata": {
        "id": "view-in-github",
        "colab_type": "text"
      },
      "source": [
        "<a href=\"https://colab.research.google.com/github/Euchigere/PneumoDoc/blob/master/pneumonia_image_classification.ipynb\" target=\"_parent\"><img src=\"https://colab.research.google.com/assets/colab-badge.svg\" alt=\"Open In Colab\"/></a>"
      ]
    },
    {
      "cell_type": "code",
      "metadata": {
        "id": "_sYVKdqXSIwZ",
        "colab_type": "code",
        "outputId": "6d6258f7-8efb-4f81-8c21-c82b9eaa65db",
        "colab": {
          "base_uri": "https://localhost:8080/",
          "height": 139
        }
      },
      "source": [
        "from google.colab import drive\n",
        "drive.mount('/gdrive')\n",
        "%cd /gdrive"
      ],
      "execution_count": 0,
      "outputs": [
        {
          "output_type": "stream",
          "text": [
            "Go to this URL in a browser: https://accounts.google.com/o/oauth2/auth?client_id=947318989803-6bn6qk8qdgf4n4g3pfee6491hc0brc4i.apps.googleusercontent.com&redirect_uri=urn%3aietf%3awg%3aoauth%3a2.0%3aoob&response_type=code&scope=email%20https%3a%2f%2fwww.googleapis.com%2fauth%2fdocs.test%20https%3a%2f%2fwww.googleapis.com%2fauth%2fdrive%20https%3a%2f%2fwww.googleapis.com%2fauth%2fdrive.photos.readonly%20https%3a%2f%2fwww.googleapis.com%2fauth%2fpeopleapi.readonly\n",
            "\n",
            "Enter your authorization code:\n",
            "··········\n",
            "Mounted at /gdrive\n",
            "/gdrive\n"
          ],
          "name": "stdout"
        }
      ]
    },
    {
      "cell_type": "code",
      "metadata": {
        "id": "sCwG4Jwxy_Tr",
        "colab_type": "code",
        "outputId": "96c276b1-c5c8-4217-cb0f-1f09019ccdc6",
        "colab": {
          "base_uri": "https://localhost:8080/",
          "height": 34
        }
      },
      "source": [
        "%cd /gdrive/My Drive/chest_xray"
      ],
      "execution_count": 0,
      "outputs": [
        {
          "output_type": "stream",
          "text": [
            "/gdrive/My Drive/chest_xray\n"
          ],
          "name": "stdout"
        }
      ]
    },
    {
      "cell_type": "code",
      "metadata": {
        "id": "H_Vp_NeEXYOI",
        "colab_type": "code",
        "colab": {}
      },
      "source": [
        "from __future__ import absolute_import, division, print_function, unicode_literals"
      ],
      "execution_count": 0,
      "outputs": []
    },
    {
      "cell_type": "code",
      "metadata": {
        "id": "mFs1CHI0Y82h",
        "colab_type": "code",
        "outputId": "75ced93a-9f2a-4556-941f-8c9f15205e90",
        "colab": {
          "base_uri": "https://localhost:8080/",
          "height": 34
        }
      },
      "source": [
        "try:\n",
        "  # %tensorflow_version only exists in colab\n",
        "  %tensorflow_version 2.x\n",
        "except Exception:\n",
        "  pass\n",
        "import tensorflow as tf"
      ],
      "execution_count": 0,
      "outputs": [
        {
          "output_type": "stream",
          "text": [
            "TensorFlow 2.x selected.\n"
          ],
          "name": "stdout"
        }
      ]
    },
    {
      "cell_type": "code",
      "metadata": {
        "id": "lXwvdv9nZcxx",
        "colab_type": "code",
        "outputId": "d1e099e2-38a0-462c-805c-34f701af76a7",
        "colab": {
          "base_uri": "https://localhost:8080/",
          "height": 34
        }
      },
      "source": [
        "import keras.backend as K\n",
        "from tensorflow.python.keras.applications import ResNet50\n",
        "from tensorflow.keras.models import Model, Sequential\n",
        "from tensorflow.keras.layers import Input, Dense, Flatten, Dropout, BatchNormalization, GlobalAveragePooling2D\n",
        "from tensorflow.keras.layers import Conv2D, SeparableConv2D, MaxPool2D, LeakyReLU, Activation\n",
        "from tensorflow.keras.optimizers import Adam\n",
        "from tensorflow.keras.preprocessing.image import ImageDataGenerator\n",
        "from tensorflow.keras.callbacks import ModelCheckpoint, ReduceLROnPlateau, EarlyStopping\n",
        "\n",
        "import os\n",
        "import numpy as np\n",
        "import pandas as pd\n",
        "# import random\n",
        "import cv2\n",
        "import matplotlib.pyplot as plt\n",
        "%matplotlib inline"
      ],
      "execution_count": 0,
      "outputs": [
        {
          "output_type": "stream",
          "text": [
            "Using TensorFlow backend.\n"
          ],
          "name": "stderr"
        }
      ]
    },
    {
      "cell_type": "code",
      "metadata": {
        "id": "rIGyEFiMdQWT",
        "colab_type": "code",
        "colab": {}
      },
      "source": [
        "train_dir = os.path.join(os.getcwd(), 'train')\n",
        "dir_pneumonia_train = os.path.join(train_dir, 'PNEUMONIA_train')\n",
        "dir_normal_train = os.path.join(train_dir, 'NORMAL_train')\n",
        "\n",
        "val_dir = os.path.join(os.getcwd(), 'validation')\n",
        "dir_normal_val = os.path.join(val_dir, 'NORMAL_test')\n",
        "dir_pneumonia_val = os.path.join(val_dir, 'PNEUMONIA_test')"
      ],
      "execution_count": 0,
      "outputs": []
    },
    {
      "cell_type": "code",
      "metadata": {
        "id": "UdidWmB3fjmN",
        "colab_type": "code",
        "colab": {}
      },
      "source": [
        "#checking the number of images in each directory\n",
        "num_pneumonia_train = len(os.listdir(dir_pneumonia_train))\n",
        "num_pneumonia_val = len(os.listdir(dir_pneumonia_val))\n",
        "total_pneumonia_images = num_pneumonia_train + num_pneumonia_val\n",
        "\n",
        "num_normal_train = len(os.listdir(dir_normal_train))\n",
        "num_normal_val = len(os.listdir(dir_normal_val))\n",
        "total_normal_images = num_normal_train + num_normal_val\n",
        "\n",
        "total_train = num_pneumonia_train + num_normal_train\n",
        "total_val = num_pneumonia_val + num_normal_val"
      ],
      "execution_count": 0,
      "outputs": []
    },
    {
      "cell_type": "code",
      "metadata": {
        "id": "MiXumxpzgBGm",
        "colab_type": "code",
        "outputId": "0143ec6f-0a58-4520-aa6d-3fbd564bfcfc",
        "colab": {
          "base_uri": "https://localhost:8080/",
          "height": 204
        }
      },
      "source": [
        "print('total training pneumonia images: ', num_pneumonia_train)\n",
        "print('total validation pneumonia images: ', num_pneumonia_val)\n",
        "print('total pneumonia images: ', total_pneumonia_images)\n",
        "\n",
        "print('\\ntotal training normal images: ', num_normal_train)\n",
        "print('total validation normal images: ', num_normal_val)\n",
        "print('total normal images: ', total_normal_images)\n",
        "\n",
        "print('\\ntotal train images: ', total_train)\n",
        "print('\\ntotal validation images: ', total_val)"
      ],
      "execution_count": 0,
      "outputs": [
        {
          "output_type": "stream",
          "text": [
            "total training pneumonia images:  3876\n",
            "total validation pneumonia images:  390\n",
            "total pneumonia images:  4266\n",
            "\n",
            "total training normal images:  1341\n",
            "total validation normal images:  234\n",
            "total normal images:  1575\n",
            "\n",
            "total train images:  5217\n",
            "\n",
            "total validation images:  624\n"
          ],
          "name": "stdout"
        }
      ]
    },
    {
      "cell_type": "code",
      "metadata": {
        "id": "o1-eXFmuiwVQ",
        "colab_type": "code",
        "colab": {}
      },
      "source": [
        "#setting p variables to use while preprocessing data\n",
        "batch_size = 100\n",
        "epochs = 15\n",
        "IMG_HEIGHT = 100\n",
        "IMG_WIDTH = 100"
      ],
      "execution_count": 0,
      "outputs": []
    },
    {
      "cell_type": "code",
      "metadata": {
        "id": "w12WWytyoD2U",
        "colab_type": "code",
        "colab": {}
      },
      "source": [
        "# Data generation\n",
        "train_image_gen = ImageDataGenerator(rescale=1./255, zoom_range=0.3, vertical_flip=True)\n",
        "val_image_gen = ImageDataGenerator(rescale=1./255)"
      ],
      "execution_count": 0,
      "outputs": []
    },
    {
      "cell_type": "code",
      "metadata": {
        "id": "C97kHsLkqNbf",
        "colab_type": "code",
        "outputId": "dc4872cf-8b0c-4d57-b45d-a619063de7b4",
        "colab": {
          "base_uri": "https://localhost:8080/",
          "height": 34
        }
      },
      "source": [
        "train_data_gen = train_image_gen.flow_from_directory(batch_size=batch_size,\n",
        "                              directory=train_dir,\n",
        "                              shuffle=True,\n",
        "                              target_size=(IMG_HEIGHT, IMG_WIDTH),\n",
        "                              class_mode='binary')"
      ],
      "execution_count": 0,
      "outputs": [
        {
          "output_type": "stream",
          "text": [
            "Found 5217 images belonging to 2 classes.\n"
          ],
          "name": "stdout"
        }
      ]
    },
    {
      "cell_type": "code",
      "metadata": {
        "id": "Eiy5Htltofhy",
        "colab_type": "code",
        "outputId": "af94e722-fea2-4728-f26d-87ecadd67647",
        "colab": {
          "base_uri": "https://localhost:8080/",
          "height": 34
        }
      },
      "source": [
        "val_data_gen = val_image_gen.flow_from_directory(batch_size=batch_size,\n",
        "                                                directory=val_dir,\n",
        "                                                target_size=(IMG_HEIGHT, IMG_WIDTH),\n",
        "                                                class_mode='binary')"
      ],
      "execution_count": 0,
      "outputs": [
        {
          "output_type": "stream",
          "text": [
            "Found 624 images belonging to 2 classes.\n"
          ],
          "name": "stdout"
        }
      ]
    },
    {
      "cell_type": "code",
      "metadata": {
        "id": "hSvjL-Ap8woV",
        "colab_type": "code",
        "colab": {}
      },
      "source": [
        "# Creating Model\n",
        "\n",
        "img_dims = (IMG_HEIGHT, IMG_WIDTH, 3)\n",
        "\n",
        "model = Sequential([\n",
        "                    Conv2D(16, 3, activation='relu', padding='same', input_shape=img_dims),\n",
        "                    MaxPool2D(),\n",
        "                    SeparableConv2D(32, 3, activation='relu', padding='same'),\n",
        "                    BatchNormalization(),\n",
        "                    MaxPool2D(),\n",
        "                    SeparableConv2D(64, 3, activation='relu', padding='same'),\n",
        "                    BatchNormalization(),\n",
        "                    MaxPool2D(),\n",
        "                    SeparableConv2D(128, 3, activation='relu', padding='same'),\n",
        "                    BatchNormalization(),\n",
        "                    MaxPool2D(),\n",
        "                    Dropout(rate=0.2),\n",
        "                    SeparableConv2D(256, 3, activation='relu', padding='same'),\n",
        "                    BatchNormalization(),\n",
        "                    MaxPool2D(),\n",
        "                    Dropout(rate=0.1),\n",
        "                    Flatten(),\n",
        "                    Dense(512, activation='relu'),\n",
        "                    Dropout(rate=0.3),\n",
        "                    Dense(units=128, activation='relu'),\n",
        "                    Dropout(rate=0.2),\n",
        "                    Dense(64, activation='relu'),\n",
        "                    Dropout(rate=0.15),\n",
        "                    Dense(1, activation='sigmoid')\n",
        "])"
      ],
      "execution_count": 0,
      "outputs": []
    },
    {
      "cell_type": "code",
      "metadata": {
        "id": "Vgm_aV479x7Q",
        "colab_type": "code",
        "colab": {}
      },
      "source": [
        "model.compile(ptimizer='adam',\n",
        "              loss='binary_crossentropy',\n",
        "              metrics=['accuracy'])\n",
        "\n",
        "# Callbacks\n",
        "checkpoint = ModelCheckpoint(filepath='best_weights.hdf5', save_best_only=True, save_weights_only=True)\n",
        "lr_reduce = ReduceLROnPlateau(monitor='val_loss', factor=0.3, patience=2, verbose=2, mode='max')\n",
        "early_stop = EarlyStopping(monitor='val_loss', min_delta=0.1, patience=1, mode='min')"
      ],
      "execution_count": 0,
      "outputs": []
    },
    {
      "cell_type": "code",
      "metadata": {
        "id": "h9sPZ-a-FtVa",
        "colab_type": "code",
        "outputId": "efa78e2e-8825-48a3-9d51-3c4f0907a448",
        "colab": {
          "base_uri": "https://localhost:8080/",
          "height": 969
        }
      },
      "source": [
        "model.summary()"
      ],
      "execution_count": 0,
      "outputs": [
        {
          "output_type": "stream",
          "text": [
            "Model: \"sequential_2\"\n",
            "_________________________________________________________________\n",
            "Layer (type)                 Output Shape              Param #   \n",
            "=================================================================\n",
            "conv2d_8 (Conv2D)            (None, 100, 100, 16)      448       \n",
            "_________________________________________________________________\n",
            "max_pooling2d_18 (MaxPooling (None, 50, 50, 16)        0         \n",
            "_________________________________________________________________\n",
            "separable_conv2d_28 (Separab (None, 50, 50, 32)        688       \n",
            "_________________________________________________________________\n",
            "batch_normalization_14 (Batc (None, 50, 50, 32)        128       \n",
            "_________________________________________________________________\n",
            "max_pooling2d_19 (MaxPooling (None, 25, 25, 32)        0         \n",
            "_________________________________________________________________\n",
            "separable_conv2d_29 (Separab (None, 25, 25, 64)        2400      \n",
            "_________________________________________________________________\n",
            "batch_normalization_15 (Batc (None, 25, 25, 64)        256       \n",
            "_________________________________________________________________\n",
            "max_pooling2d_20 (MaxPooling (None, 12, 12, 64)        0         \n",
            "_________________________________________________________________\n",
            "separable_conv2d_30 (Separab (None, 12, 12, 128)       8896      \n",
            "_________________________________________________________________\n",
            "batch_normalization_16 (Batc (None, 12, 12, 128)       512       \n",
            "_________________________________________________________________\n",
            "max_pooling2d_21 (MaxPooling (None, 6, 6, 128)         0         \n",
            "_________________________________________________________________\n",
            "dropout_10 (Dropout)         (None, 6, 6, 128)         0         \n",
            "_________________________________________________________________\n",
            "separable_conv2d_31 (Separab (None, 6, 6, 256)         34176     \n",
            "_________________________________________________________________\n",
            "batch_normalization_17 (Batc (None, 6, 6, 256)         1024      \n",
            "_________________________________________________________________\n",
            "max_pooling2d_22 (MaxPooling (None, 3, 3, 256)         0         \n",
            "_________________________________________________________________\n",
            "dropout_11 (Dropout)         (None, 3, 3, 256)         0         \n",
            "_________________________________________________________________\n",
            "flatten_2 (Flatten)          (None, 2304)              0         \n",
            "_________________________________________________________________\n",
            "dense_8 (Dense)              (None, 512)               1180160   \n",
            "_________________________________________________________________\n",
            "dropout_12 (Dropout)         (None, 512)               0         \n",
            "_________________________________________________________________\n",
            "dense_9 (Dense)              (None, 128)               65664     \n",
            "_________________________________________________________________\n",
            "dropout_13 (Dropout)         (None, 128)               0         \n",
            "_________________________________________________________________\n",
            "dense_10 (Dense)             (None, 64)                8256      \n",
            "_________________________________________________________________\n",
            "dropout_14 (Dropout)         (None, 64)                0         \n",
            "_________________________________________________________________\n",
            "dense_11 (Dense)             (None, 1)                 65        \n",
            "=================================================================\n",
            "Total params: 1,302,673\n",
            "Trainable params: 1,301,713\n",
            "Non-trainable params: 960\n",
            "_________________________________________________________________\n"
          ],
          "name": "stdout"
        }
      ]
    },
    {
      "cell_type": "code",
      "metadata": {
        "id": "OoZvN6TqF1qG",
        "colab_type": "code",
        "outputId": "6114bacd-5656-4768-db79-151006ff041b",
        "colab": {
          "base_uri": "https://localhost:8080/",
          "height": 751
        }
      },
      "source": [
        "history = model.fit_generator(\n",
        "    train_data_gen,\n",
        "    steps_per_epoch=total_train // batch_size,\n",
        "    epochs=epochs,\n",
        "    validation_data = val_data_gen,\n",
        "    validation_steps=total_val // batch_size,\n",
        "    callbacks=[checkpoint, lr_reduce]\n",
        ")"
      ],
      "execution_count": 0,
      "outputs": [
        {
          "output_type": "stream",
          "text": [
            "Epoch 1/15\n",
            "104/104 [==============================] - 146s 1s/step - loss: 0.2347 - accuracy: 0.9239 - val_loss: 1.8071 - val_accuracy: 0.6250\n",
            "Epoch 2/15\n",
            "104/104 [==============================] - 147s 1s/step - loss: 0.2070 - accuracy: 0.9303 - val_loss: 2.2113 - val_accuracy: 0.6050\n",
            "Epoch 3/15\n",
            "104/104 [==============================] - 147s 1s/step - loss: 0.2062 - accuracy: 0.9352 - val_loss: 0.5190 - val_accuracy: 0.8750\n",
            "Epoch 4/15\n",
            "103/104 [============================>.] - ETA: 1s - loss: 0.2039 - accuracy: 0.9379\n",
            "Epoch 00004: ReduceLROnPlateau reducing learning rate to 0.0003000000142492354.\n",
            "104/104 [==============================] - 147s 1s/step - loss: 0.2029 - accuracy: 0.9381 - val_loss: 0.7842 - val_accuracy: 0.8283\n",
            "Epoch 5/15\n",
            "104/104 [==============================] - 147s 1s/step - loss: 0.1900 - accuracy: 0.9485 - val_loss: 0.3222 - val_accuracy: 0.9017\n",
            "Epoch 6/15\n",
            "103/104 [============================>.] - ETA: 1s - loss: 0.1720 - accuracy: 0.9466\n",
            "Epoch 00006: ReduceLROnPlateau reducing learning rate to 9.000000427477062e-05.\n",
            "104/104 [==============================] - 145s 1s/step - loss: 0.1718 - accuracy: 0.9464 - val_loss: 0.3515 - val_accuracy: 0.9017\n",
            "Epoch 7/15\n",
            "104/104 [==============================] - 146s 1s/step - loss: 0.1709 - accuracy: 0.9477 - val_loss: 0.3964 - val_accuracy: 0.9067\n",
            "Epoch 8/15\n",
            "103/104 [============================>.] - ETA: 1s - loss: 0.1813 - accuracy: 0.9491\n",
            "Epoch 00008: ReduceLROnPlateau reducing learning rate to 2.700000040931627e-05.\n",
            "104/104 [==============================] - 144s 1s/step - loss: 0.1811 - accuracy: 0.9488 - val_loss: 0.4773 - val_accuracy: 0.8950\n",
            "Epoch 9/15\n",
            "104/104 [==============================] - 146s 1s/step - loss: 0.1511 - accuracy: 0.9532 - val_loss: 0.3541 - val_accuracy: 0.9133\n",
            "Epoch 10/15\n",
            "103/104 [============================>.] - ETA: 1s - loss: 0.1691 - accuracy: 0.9490\n",
            "Epoch 00010: ReduceLROnPlateau reducing learning rate to 8.100000013655517e-06.\n",
            "104/104 [==============================] - 147s 1s/step - loss: 0.1677 - accuracy: 0.9495 - val_loss: 0.3470 - val_accuracy: 0.9100\n",
            "Epoch 11/15\n",
            "104/104 [==============================] - 146s 1s/step - loss: 0.1686 - accuracy: 0.9543 - val_loss: 0.3768 - val_accuracy: 0.9117\n",
            "Epoch 12/15\n",
            "103/104 [============================>.] - ETA: 1s - loss: 0.1630 - accuracy: 0.9554\n",
            "Epoch 00012: ReduceLROnPlateau reducing learning rate to 2.429999949526973e-06.\n",
            "104/104 [==============================] - 146s 1s/step - loss: 0.1616 - accuracy: 0.9559 - val_loss: 0.3531 - val_accuracy: 0.9133\n",
            "Epoch 13/15\n",
            "104/104 [==============================] - 144s 1s/step - loss: 0.1540 - accuracy: 0.9541 - val_loss: 0.3666 - val_accuracy: 0.9167\n",
            "Epoch 14/15\n",
            "103/104 [============================>.] - ETA: 1s - loss: 0.1620 - accuracy: 0.9492\n",
            "Epoch 00014: ReduceLROnPlateau reducing learning rate to 7.289999985005124e-07.\n",
            "104/104 [==============================] - 146s 1s/step - loss: 0.1624 - accuracy: 0.9485 - val_loss: 0.3674 - val_accuracy: 0.9167\n",
            "Epoch 15/15\n",
            "104/104 [==============================] - 145s 1s/step - loss: 0.1666 - accuracy: 0.9523 - val_loss: 0.3659 - val_accuracy: 0.9167\n"
          ],
          "name": "stdout"
        }
      ]
    },
    {
      "cell_type": "code",
      "metadata": {
        "id": "F44MjP5fIomM",
        "colab_type": "code",
        "outputId": "dacf80a1-73b8-4425-cdc1-74ef3586686d",
        "colab": {
          "base_uri": "https://localhost:8080/",
          "height": 499
        }
      },
      "source": [
        "# Visualize training results\n",
        "acc = history.history['accuracy']\n",
        "val_acc = history.history['val_accuracy']\n",
        "\n",
        "loss = history.history['loss']\n",
        "val_loss = history.history['val_loss']\n",
        "\n",
        "epochs_range = range(epochs)\n",
        "\n",
        "plt.figure(figsize=(8, 8))\n",
        "plt.subplot(1, 2, 1)\n",
        "plt.plot(epochs_range, acc, label='Training Accuracy')\n",
        "plt.plot(epochs_range, val_acc, label='Validation Accuracy')\n",
        "plt.legend(loc='lower right')\n",
        "plt.title('Training and Validation Accuracy')\n",
        "\n",
        "plt.subplot(1, 2, 2)\n",
        "plt.plot(epochs_range, loss, label='Training Loss')\n",
        "plt.plot(epochs_range, val_loss, label='Validation Loss')\n",
        "plt.legend(loc='upper right')\n",
        "plt.title('Training and Validation Loss')\n",
        "plt.show()"
      ],
      "execution_count": 0,
      "outputs": [
        {
          "output_type": "display_data",
          "data": {
            "image/png": "[encoded data removed]",
            "text/plain": [
              "<Figure size 576x576 with 2 Axes>"
            ]
          },
          "metadata": {
            "tags": []
          }
        }
      ]
    },
    {
      "cell_type": "code",
      "metadata": {
        "id": "X1n4ZWCoDI7Q",
        "colab_type": "code",
        "colab": {}
      },
      "source": [
        "#Tranfer learning\n",
        "img_dims = (IMG_HEIGHT, IMG_WIDTH, 3)\n",
        "\n",
        "model_learn = Sequential()\n",
        "model_learn.add(\n",
        "    ResNet50(\n",
        "        include_top=False, \n",
        "        pooling='avg', \n",
        "        weights='imagenet'\n",
        "        )\n",
        "    )\n",
        "model_learn.add(\n",
        "    Dense(1, activation='softmax')\n",
        ")\n",
        "\n",
        "# Say not to train first layer(ResNet) model. it is already trained\n",
        "model_learn.layers[0].trainable = False"
      ],
      "execution_count": 0,
      "outputs": []
    },
    {
      "cell_type": "code",
      "metadata": {
        "id": "-PeiKK25YpjH",
        "colab_type": "code",
        "colab": {}
      },
      "source": [
        "model_learn.compile(ptimizer='adam',\n",
        "              loss='binary_crossentropy',\n",
        "              metrics=['accuracy'])\n",
        "\n",
        "# Callbacks\n",
        "checkpoint = ModelCheckpoint(filepath='best_weights_learn.hdf5', save_best_only=True, save_weights_only=True)\n",
        "lr_reduce = ReduceLROnPlateau(monitor='val_loss', factor=0.3, patience=2, verbose=2, mode='max')\n",
        "early_stop = EarlyStopping(monitor='val_loss', min_delta=0.1, patience=1, mode='min')"
      ],
      "execution_count": 0,
      "outputs": []
    },
    {
      "cell_type": "code",
      "metadata": {
        "id": "Z92yhLaVe4n1",
        "colab_type": "code",
        "outputId": "5bf4f603-a71c-455c-c510-a015a3556458",
        "colab": {
          "base_uri": "https://localhost:8080/",
          "height": 221
        }
      },
      "source": [
        "model_learn.summary()"
      ],
      "execution_count": 0,
      "outputs": [
        {
          "output_type": "stream",
          "text": [
            "Model: \"sequential_3\"\n",
            "_________________________________________________________________\n",
            "Layer (type)                 Output Shape              Param #   \n",
            "=================================================================\n",
            "resnet50 (Model)             (None, 2048)              23587712  \n",
            "_________________________________________________________________\n",
            "dense_1 (Dense)              (None, 1)                 2049      \n",
            "=================================================================\n",
            "Total params: 23,589,761\n",
            "Trainable params: 2,049\n",
            "Non-trainable params: 23,587,712\n",
            "_________________________________________________________________\n"
          ],
          "name": "stdout"
        }
      ]
    },
    {
      "cell_type": "code",
      "metadata": {
        "id": "cYF9B7LyY9XE",
        "colab_type": "code",
        "outputId": "2a90dbfb-4167-44c4-e9cd-99d104711122",
        "colab": {
          "base_uri": "https://localhost:8080/",
          "height": 513
        }
      },
      "source": [
        "history = model_learn.fit_generator(\n",
        "    train_data_gen,\n",
        "    steps_per_epoch=total_train // batch_size,\n",
        "    epochs=10,\n",
        "    validation_data = val_data_gen,\n",
        "    validation_steps=total_val // batch_size,\n",
        "    callbacks=[lr_reduce]\n",
        ")"
      ],
      "execution_count": 0,
      "outputs": [
        {
          "output_type": "stream",
          "text": [
            "Epoch 1/10\n",
            "52/52 [==============================] - 707s 14s/step - loss: 3.9689 - accuracy: 0.7412 - val_loss: 5.4689 - val_accuracy: 0.6433\n",
            "Epoch 2/10\n",
            "52/52 [==============================] - 662s 13s/step - loss: 3.9370 - accuracy: 0.7444 - val_loss: 5.4689 - val_accuracy: 0.6433\n",
            "Epoch 3/10\n",
            "51/52 [============================>.] - ETA: 12s - loss: 3.9725 - accuracy: 0.7422\n",
            "Epoch 00003: ReduceLROnPlateau reducing learning rate to 0.0003000000142492354.\n",
            "52/52 [==============================] - 677s 13s/step - loss: 3.9606 - accuracy: 0.7429 - val_loss: 5.4689 - val_accuracy: 0.6433\n",
            "Epoch 4/10\n",
            "52/52 [==============================] - 682s 13s/step - loss: 3.9631 - accuracy: 0.7415 - val_loss: 5.4689 - val_accuracy: 0.6433\n",
            "Epoch 5/10\n",
            "51/52 [============================>.] - ETA: 12s - loss: 3.9866 - accuracy: 0.7400\n",
            "Epoch 00005: ReduceLROnPlateau reducing learning rate to 9.000000427477062e-05.\n",
            "52/52 [==============================] - 694s 13s/step - loss: 3.9866 - accuracy: 0.7400 - val_loss: 5.4689 - val_accuracy: 0.6433\n",
            "Epoch 6/10\n",
            "52/52 [==============================] - 679s 13s/step - loss: 3.8780 - accuracy: 0.7483 - val_loss: 5.4689 - val_accuracy: 0.6433\n",
            "Epoch 7/10\n",
            "51/52 [============================>.] - ETA: 12s - loss: 3.9987 - accuracy: 0.7392\n",
            "Epoch 00007: ReduceLROnPlateau reducing learning rate to 2.700000040931627e-05.\n",
            "52/52 [==============================] - 697s 13s/step - loss: 3.9689 - accuracy: 0.7412 - val_loss: 5.4689 - val_accuracy: 0.6433\n",
            "Epoch 8/10\n",
            "52/52 [==============================] - 677s 13s/step - loss: 3.9382 - accuracy: 0.7429 - val_loss: 5.4689 - val_accuracy: 0.6433\n",
            "Epoch 9/10\n",
            "51/52 [============================>.] - ETA: 12s - loss: 3.8063 - accuracy: 0.7518\n",
            "Epoch 00009: ReduceLROnPlateau reducing learning rate to 8.100000013655517e-06.\n",
            "52/52 [==============================] - 681s 13s/step - loss: 3.8333 - accuracy: 0.7500 - val_loss: 5.4689 - val_accuracy: 0.6433\n",
            "Epoch 10/10\n",
            "52/52 [==============================] - 668s 13s/step - loss: 4.0255 - accuracy: 0.7386 - val_loss: 5.4689 - val_accuracy: 0.6433\n"
          ],
          "name": "stdout"
        }
      ]
    },
    {
      "cell_type": "code",
      "metadata": {
        "id": "AWey33Y-fP6y",
        "colab_type": "code",
        "colab": {}
      },
      "source": [
        ""
      ],
      "execution_count": 0,
      "outputs": []
    }
  ]
}